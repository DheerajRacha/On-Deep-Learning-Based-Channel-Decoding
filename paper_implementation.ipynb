{
 "cells": [
  {
   "cell_type": "markdown",
   "metadata": {
    "colab_type": "text",
    "id": "fuRhMvFpp6lg"
   },
   "source": [
    "---\n",
    "# **On Deep Learning Based Chanel Decoding**\n",
    "---"
   ]
  },
  {
   "cell_type": "markdown",
   "metadata": {
    "colab_type": "text",
    "id": "TiZJICtLqKKR"
   },
   "source": [
    "\n",
    "\n",
    "> * Paper title: \"On Deep Learning-Based Channel Decoding\"\n",
    "> * Paper URL: http://arxiv.org/abs/1701.07738\n",
    "> * Results are generated using Google Colaboratory.\n",
    "> * Main focus on Polar Codes.\n",
    "> * Colab Link to instantly start running this code: https://colab.research.google.com/drive/1Ic8PGk17ZYAIIXhGRKjPs-UWHTQxYWjj\n",
    "\n"
   ]
  },
  {
   "cell_type": "markdown",
   "metadata": {
    "colab_type": "text",
    "id": "1tYeiDbcqbEI"
   },
   "source": [
    "*Install polar code package using pip*"
   ]
  },
  {
   "cell_type": "code",
   "execution_count": 0,
   "metadata": {
    "colab": {},
    "colab_type": "code",
    "id": "u9WJwp2wpLyg"
   },
   "outputs": [],
   "source": [
    "!pip install py-polar-codes"
   ]
  },
  {
   "cell_type": "markdown",
   "metadata": {
    "colab_type": "text",
    "id": "sH9h3bm3qhKZ"
   },
   "source": [
    "*Import Required packages*"
   ]
  },
  {
   "cell_type": "code",
   "execution_count": 0,
   "metadata": {
    "colab": {},
    "colab_type": "code",
    "id": "DBODYcQVEgyg"
   },
   "outputs": [],
   "source": [
    "import numpy as np\n",
    "import tensorflow as tf\n",
    "import matplotlib.pyplot as plt\n",
    "from tensorflow.keras.layers import Dense\n",
    "import tensorflow.keras.backend as K\n",
    "from polarcodes import *"
   ]
  },
  {
   "cell_type": "markdown",
   "metadata": {
    "colab_type": "text",
    "id": "BQhj2l2n4--f"
   },
   "source": [
    "### **Utilities**"
   ]
  },
  {
   "cell_type": "code",
   "execution_count": 0,
   "metadata": {
    "colab": {},
    "colab_type": "code",
    "id": "aL16Mt-SEmn3"
   },
   "outputs": [],
   "source": [
    "def generate_input_data(k):\n",
    "    X = []\n",
    "    for i in range(2**k):\n",
    "        bin_str = bin(i)[2:].zfill(k)\n",
    "        x = []\n",
    "        for j in range(k):\n",
    "            x.append(int(bin_str[j]))\n",
    "        X.append(x)\n",
    "    return np.array(X)\n",
    "\n",
    "def get_index_set(N, k, snr_db):\n",
    "\tsnr = 10**(snr_db/10)\n",
    "\tbhattacharya_param = np.exp(-snr)\n",
    "\n",
    "\tleaves = np.zeros(N)\n",
    "\tleaves[0] = bhattacharya_param\n",
    "\n",
    "\tfor level in range(1, int(np.log2(N))+1):\n",
    "\t\tfor i in range(0, int( (2**level)/2 )):\n",
    "\t\t\tp = leaves[i]\n",
    "\t\t\tleaves[i] = 2*p - p**2\n",
    "\t\t\tleaves[i + int( (2**level)/2 )] = p**2\n",
    "\tJ = np.argsort(leaves)[:k]\n",
    "\tI = []\n",
    "\tfor j in J:\n",
    "\t\tbin_str = bin(j)[2:].zfill(int(np.log2(N)))\n",
    "\t\tbin_str = bin_str[::-1]\n",
    "\t\tbin_str = '0b' + bin_str\n",
    "\t\tI.append(int(bin_str,2))\n",
    "\treturn sorted(I)\n",
    "\n",
    "def _polar_encode(u):\n",
    "\n",
    "    N = len(u)\n",
    "    n = 1\n",
    "    x = np.copy(u)\n",
    "    stages = np.log2(N).astype(int)\n",
    "    for s in range(0,stages):\n",
    "        i = 0\n",
    "        while i < N:\n",
    "            for j in range(0,n):\n",
    "                idx = i+j\n",
    "                x[idx] = x[idx] ^ x[idx+n]\n",
    "            i=i+2*n\n",
    "        n=2*n\n",
    "    return x\n",
    "\n",
    "def polar_encode(input, N, k, snr_db):\n",
    "    indices = get_index_set(N, k ,snr_db)\n",
    "    X = np.zeros((len(input), N),dtype=bool)\n",
    "    X[:, indices] = input\n",
    "    encoded = []\n",
    "\n",
    "    for u in X:\n",
    "        encoded.append(_polar_encode(u))\n",
    "    return encoded\n",
    "\n",
    "def BER_MAP_PolarCode(snr_db, val_size, N, k):\n",
    "    \n",
    "    flips = 0.0\n",
    "    total_bits = 0.0\n",
    "    for _ in range(10):\n",
    "\n",
    "        u_messages = np.random.randint(0, 2, size=(val_size, k))\n",
    "        for u in u_messages:\n",
    "            polar_code = PolarCode(N, k)\n",
    "            polar_code.construction_type = 'bb'\n",
    "            Construct(polar_code, snr_db)\n",
    "\n",
    "            polar_code.set_message(u)\n",
    "            \n",
    "            Encode(polar_code)\n",
    "            AWGN(polar_code, snr_db)\n",
    "            Decode(polar_code)\n",
    "\n",
    "            flips += np.sum(np.abs(u-polar_code.message_received))\n",
    "        total_bits += val_size*k\n",
    "    \n",
    "    return flips/(total_bits)"
   ]
  },
  {
   "cell_type": "markdown",
   "metadata": {
    "colab_type": "text",
    "id": "W7Qx7u8bk-2M"
   },
   "source": [
    "## **Neural Network Decoder**"
   ]
  },
  {
   "cell_type": "markdown",
   "metadata": {
    "colab_type": "text",
    "id": "x0M2M3WEsfT3"
   },
   "source": [
    "* Input to the NND are the encoded messages.\n",
    "* Custom layers are included in the NND itself to perform BPSK modulation and adding of AWGN.\n",
    "* Output of NND are the probabilites that the decoded bits are 0 or 1."
   ]
  },
  {
   "cell_type": "code",
   "execution_count": 0,
   "metadata": {
    "colab": {},
    "colab_type": "code",
    "id": "HBtQTM3Pk3ZR"
   },
   "outputs": [],
   "source": [
    "class NND(tf.keras.Model):\n",
    "\n",
    "    def __init__(self, k, N, hidden_layers, loss_object, optimizer, train_loss, llr_input = False):\n",
    "        super(NND, self).__init__()\n",
    "\n",
    "        self.k = k\n",
    "        self.N = N\n",
    "        self.llr_input = llr_input\n",
    "\n",
    "        self.hidden_layer_1 = Dense(hidden_layers[0], input_shape = (self.N, ), activation = 'relu', name = \"Hidden_Layer_1\")\n",
    "        self.hidden_layer_2 = Dense(hidden_layers[1], activation = 'relu', name = \"Hidden_Layer_2\")\n",
    "        self.hidden_layer_3 = Dense(hidden_layers[2], activation = 'relu', name = \"Hidden_Layer_3\")\n",
    "\n",
    "        self.output_layer = Dense(self.k, activation='sigmoid', name = \"Output_Layer\")\n",
    "\n",
    "        self.loss_object = loss_object\n",
    "        self.optimizer = optimizer\n",
    "        self.train_loss = train_loss\n",
    "\n",
    "    def bpsk_modulation(self, x):\n",
    "        return -2*x + 1\n",
    "    \n",
    "    def awgn_noise(self, x, noise_var):\n",
    "        return x + K.random_normal(K.shape(x), mean = 0.0, stddev = np.sqrt(noise_var))\n",
    "    \n",
    "    def llr(self, x, noise_var):\n",
    "        return 2*x/noise_var\n",
    "\n",
    "    def decoder(self, x, snr_db):\n",
    "\n",
    "        noise_var = 1.0/(2* 10**( (snr_db + 10*np.log10(self.k/self.N) )/10.0) )\n",
    "        \n",
    "        x = self.bpsk_modulation(x)\n",
    "        x = self.awgn_noise(x, noise_var)\n",
    "\n",
    "        if self.llr_input is True:\n",
    "            x = self.llr(x, noise_var)\n",
    "\n",
    "        x = self.hidden_layer_1(x)\n",
    "        x = self.hidden_layer_2(x)\n",
    "        x = self.hidden_layer_3(x)\n",
    "\n",
    "        return self.output_layer(x)\n",
    "        \n",
    "    def BER(self, y_true, y_pred):\n",
    "        return K.mean(K.not_equal(y_true, K.round(y_pred)))\n",
    "    \n",
    "    @tf.function\n",
    "    def train_step(self, x, u, snr_db):\n",
    "        with tf.GradientTape() as tape:\n",
    "            predictions = self.decoder(x, snr_db)\n",
    "            loss = self.loss_object(u, predictions)\n",
    "        \n",
    "        gradients = tape.gradient(loss, self.trainable_variables)\n",
    "        self.optimizer.apply_gradients(zip(gradients, self.trainable_variables))\n",
    "\n",
    "        self.train_loss(loss)\n",
    "    \n",
    "    @tf.function\n",
    "    def NVE(self, S, val_size, val_snr_db_range, BER_MAP_list):\n",
    "        snr_db_range = np.linspace(val_snr_db_range[0], val_snr_db_range[1], S)\n",
    "        BER_NND_list = []\n",
    "\n",
    "        for snr_db in snr_db_range:\n",
    "            u_messages = np.array(np.random.randint(0, 2, size = (val_size, self.k)), dtype = np.float32)\n",
    "            encoded_messages = np.array(polar_encode(u_messages, self.N, self.k, snr_db), dtype = np.float32)\n",
    "\n",
    "            pred_messages = self.decoder(encoded_messages, snr_db)\n",
    "            BER_NND_list.append(self.BER(u_messages, pred_messages))\n",
    "\n",
    "        nve = 0\n",
    "        for i in range(S):\n",
    "            nve += BER_NND_list[i]/BER_MAP_list[i]   \n",
    "        return nve/S\n",
    "    \n",
    "    def fit(self, train, epochs, snr_db, batch_size):\n",
    "        for epoch in range(epochs):\n",
    "            for train_x, train_u in train.batch(batch_size):\n",
    "                self.train_step(train_x, train_u, snr_db)\n",
    "\n",
    "            self.train_loss.reset_states()"
   ]
  },
  {
   "cell_type": "markdown",
   "metadata": {
    "colab_type": "text",
    "id": "XPtiS-CLGCmR"
   },
   "source": [
    "## **Finding Optimal SNR**"
   ]
  },
  {
   "cell_type": "markdown",
   "metadata": {
    "colab_type": "text",
    "id": "g7wqZ77oKLaA"
   },
   "source": [
    "* k = 8 and N = 16. Therefore, r = 0.5 \\\\\n",
    "* The NND is trained for $2^{16}$ epochs, over an SNR Range of (-3,6) dB, with batch size of 256. \n",
    "* NND Architecture: 128-64-32\n",
    "* Input to Neural Network is the direct channel values\n",
    "* Optimizer: Adam \n",
    "* Loss function: Binary Cross Entropy \n",
    "* NVE is computed over an SNR range of 0 to 5 dB, with 20,000 examples for each SNR. \n",
    "\n"
   ]
  },
  {
   "cell_type": "markdown",
   "metadata": {
    "colab_type": "text",
    "id": "IefC2lbK6bkX"
   },
   "source": [
    "*Parameters*"
   ]
  },
  {
   "cell_type": "code",
   "execution_count": 0,
   "metadata": {
    "colab": {},
    "colab_type": "code",
    "id": "BhsrKWDUF-9t"
   },
   "outputs": [],
   "source": [
    "k = 8\n",
    "N = 16\n",
    "train_snr_db_range = np.linspace(-3,6, 10)\n",
    "batch_size = 256\n",
    "num_epochs = 2**16\n",
    "layers = [126, 64, 32]\n",
    "\n",
    "S = 20\n",
    "val_snr_db_range = (0, 5)\n",
    "val_size = 20000\n",
    "\n",
    "loss_object = tf.keras.losses.BinaryCrossentropy()\n",
    "optimizer = tf.keras.optimizers.Adam()\n",
    "train_loss = tf.keras.metrics.Mean(name='train_loss')"
   ]
  },
  {
   "cell_type": "markdown",
   "metadata": {
    "colab_type": "text",
    "id": "9DxOdFzZ5yQG"
   },
   "source": [
    "*Compute BER of MAP Decoding*"
   ]
  },
  {
   "cell_type": "code",
   "execution_count": 0,
   "metadata": {
    "colab": {},
    "colab_type": "code",
    "id": "7YwLPuPz5xTh"
   },
   "outputs": [],
   "source": [
    "ber_map_list = []\n",
    "for snr_db in np.linspace(val_snr_db_range[0], val_snr_db_range[1], S):\n",
    "    ber_map_list.append(BER_MAP_PolarCode(N=N, k=k, snr_db=snr_db, val_size=10000 ))"
   ]
  },
  {
   "cell_type": "markdown",
   "metadata": {
    "colab_type": "text",
    "id": "gdEXQLSh6uMi"
   },
   "source": [
    "*Train NND at different SNR ( $\\frac{E_b}{N_0}$ = -3 dB to 6 dB )*, and compute NVE for each SNR."
   ]
  },
  {
   "cell_type": "code",
   "execution_count": 0,
   "metadata": {
    "colab": {},
    "colab_type": "code",
    "id": "eM8eEJE6nUuG"
   },
   "outputs": [],
   "source": [
    "NVE_list = []\n",
    "\n",
    "u_messages = np.array(generate_input_data(k), dtype = np.float32)\n",
    "\n",
    "for train_snr_db in train_snr_db_range:\n",
    "\n",
    "    x = np.array(polar_encode(u_messages, N, k, train_snr_db), np.float32)\n",
    "    dataset = tf.data.Dataset.from_tensor_slices((np.array(x, dtype = np.float32), np.array(u_messages, dtype = np.float32)))\n",
    "\n",
    "    tf.keras.backend.clear_session()\n",
    "    model = NND(k = k, N = N, hidden_layers = layers, loss_object = loss_object,\n",
    "                        optimizer = optimizer, train_loss = train_loss)\n",
    "    model.fit(dataset, num_epochs, train_snr_db, batch_size)\n",
    "\n",
    "    NVE_list.append(model.NVE(S, val_size, val_snr_db_range, ber_map_list))"
   ]
  },
  {
   "cell_type": "markdown",
   "metadata": {
    "colab_type": "text",
    "id": "YpHNHFVw7rqi"
   },
   "source": [
    "*Plot NVE vs. $\\frac{E_b}{N_0}$ (dB)*"
   ]
  },
  {
   "cell_type": "code",
   "execution_count": 0,
   "metadata": {
    "colab": {
     "base_uri": "https://localhost:8080/",
     "height": 283
    },
    "colab_type": "code",
    "id": "IHdU1CdMkCBj",
    "outputId": "faac884e-ff3d-4c62-99eb-0a977ca931b9"
   },
   "outputs": [
    {
     "data": {
      "image/png": "[encoded data removed]",
      "text/plain": [
       "<Figure size 432x288 with 1 Axes>"
      ]
     },
     "metadata": {
      "needs_background": "light",
      "tags": []
     },
     "output_type": "display_data"
    }
   ],
   "source": [
    "plt.close()\n",
    "plt.xlabel(\"Training - $E_{b}$/$N_{0}$ [dB]\")\n",
    "plt.ylabel(\"NVE\")\n",
    "plt.grid()\n",
    "plt.plot(np.linspace(-3,6,10), NVE_list)\n",
    "plt.plot(np.linspace(-3,6,10), NVE_list, 'bo')\n",
    "plt.savefig(\"nve.png\")"
   ]
  },
  {
   "cell_type": "markdown",
   "metadata": {
    "colab_type": "text",
    "id": "R8_XFQ6pMBss"
   },
   "source": [
    "### **Observations**\n",
    "The NND performance is near optimal when trained around 0 - 1 dB. \\\\\n",
    "Therefore, from here on for further investigations, it is assumed that the NND is trained at 1 dB."
   ]
  },
  {
   "cell_type": "markdown",
   "metadata": {
    "colab_type": "text",
    "id": "yiE9zev19Vi9"
   },
   "source": [
    "## **Finding Optimal no. of Training Epochs**"
   ]
  },
  {
   "cell_type": "markdown",
   "metadata": {
    "colab_type": "text",
    "id": "FtXA4gPcMfc-"
   },
   "source": [
    "\n",
    "\n",
    "*   K = 8 and N = 16. Therefore r = 0.5 \n",
    "* NND Architecture: 128-64-32\n",
    "* Input to Neural Network is the direct channel values.\n",
    "*   NND is trained for different no. of epochs ($2^{10}, 2^{14}, 2^{16}, 2^{18}$) and BERs are plotted along with BER of MAP decoding \n",
    "*  Training SNR is 1 dB. \n",
    "* Optimizer: Adam \n",
    "* Loss function: Binary Cross Entropy \n",
    "* Batch Size = 256 \n",
    "* For BER Simulation, a total of 1,000,000 examples are considered\n",
    "\n"
   ]
  },
  {
   "cell_type": "code",
   "execution_count": 0,
   "metadata": {
    "colab": {},
    "colab_type": "code",
    "id": "Kt0PpCO7lZy3"
   },
   "outputs": [],
   "source": [
    "ber_epochs_list = []\n",
    "epochs_range = [10**12, 10, 10**12, 10**14, 10**16, 10**18]\n",
    "\n",
    "u_messages = np.array(generate_input_data(k), dtype = np.float32)\n",
    "x = np.array(polar_encode(u_messages, N, k, 1), np.float32)\n",
    "dataset = tf.data.Dataset.from_tensor_slices((np.array(x, dtype = np.float32), np.array(u_messages, dtype = np.float32)))\n",
    "\n",
    "for epochs in epochs_range:\n",
    "    \n",
    "    tf.keras.backend.clear_session()\n",
    "    model = NND(k = k, N = N, hidden_layers = layers, loss_object = loss_object,\n",
    "                        optimizer = optimizer, train_loss = train_loss)\n",
    "    model.fit(dataset, epochs, 1, batch_size)\n",
    "\n",
    "    ber_list = []\n",
    "    for snr in np.linspace(0,10, 20):\n",
    "        test_u = np.array(np.random.randint(0, 2, size = (1000000, k)), dtype = np.float32)\n",
    "        test_x = np.array(polar_encode(test_u, N, k, snr), np.float32)\n",
    "\n",
    "        preds = model.decoder(test_x, snr)\n",
    "\n",
    "        ber_list.append(model.BER(test_u, preds))\n",
    "    ber_epochs_list.append(ber_list)"
   ]
  },
  {
   "cell_type": "code",
   "execution_count": 0,
   "metadata": {
    "colab": {},
    "colab_type": "code",
    "id": "qKgfyDKt_I6m"
   },
   "outputs": [],
   "source": [
    "ber_map_list = []\n",
    "for snr_db in np.linspace(0, 8, 16):\n",
    "    ber_map_list.append(BER_MAP_PolarCode(N=N, k=k, snr_db=snr_db, val_size=10000 ))"
   ]
  },
  {
   "cell_type": "markdown",
   "metadata": {
    "colab_type": "text",
    "id": "OXp697v0Fpb7"
   },
   "source": [
    "*Plotting*"
   ]
  },
  {
   "cell_type": "code",
   "execution_count": 0,
   "metadata": {
    "colab": {
     "base_uri": "https://localhost:8080/",
     "height": 283
    },
    "colab_type": "code",
    "id": "vWC5Cr7Zm-ru",
    "outputId": "8b22aaea-3851-4139-b3fd-228d5cec5482"
   },
   "outputs": [
    {
     "data": {
      "image/png": "[encoded data removed]",
      "text/plain": [
       "<Figure size 432x288 with 1 Axes>"
      ]
     },
     "metadata": {
      "needs_background": "light",
      "tags": []
     },
     "output_type": "display_data"
    }
   ],
   "source": [
    "plt.close()\n",
    "plt.yscale('log')\n",
    "plt.xlabel('$E_b/N_0$ [dB]')\n",
    "plt.ylabel('BER')\n",
    "plt.grid(True, which=\"both\")\n",
    "plt.ylim(1e-5, 0.4)\n",
    "plt.xlim(0,10)\n",
    "plt.plot(np.linspace(0,8,16), ber_map_list, \"black\", linestyle = 'dashed')\n",
    "plt.plot(np.linspace(0,10,20),ber_epochs_list[0])\n",
    "plt.plot(np.linspace(0,10,20),ber_epochs_list[1])\n",
    "plt.plot(np.linspace(0,10,20),ber_epochs_list[2])\n",
    "plt.plot(np.linspace(0,10,20),ber_epochs_list[3])\n",
    "plt.plot(np.linspace(0,10,20),ber_epochs_list[4])\n",
    "plt.legend([\"MAP\", \"$M_{ep} = 2^{10}$\", \"$M_{ep} = 2^{12}$\", \"$M_{ep} = 2^{14}$\", \"$M_{ep} = 2^{16}$\", \"$M_{ep} = 2^{18}$\" ])"
   ]
  },
  {
   "cell_type": "markdown",
   "metadata": {
    "colab_type": "text",
    "id": "TqDB7CiVuIqY"
   },
   "source": [
    "### **Observations** \n",
    "We can deduce from the above plot that, close to MAP performance can be achieved with NND (128-64-32) trained for $\\geq 2^{16}$  epochs."
   ]
  },
  {
   "cell_type": "markdown",
   "metadata": {
    "colab_type": "text",
    "id": "ypOIu1UxATqR"
   },
   "source": [
    "## ***Training at Mixed SNR values.**"
   ]
  },
  {
   "cell_type": "markdown",
   "metadata": {
    "colab_type": "text",
    "id": "nplBGdxCCxOs"
   },
   "source": [
    "* Now instead of training the NND with input data generaed at one particular SNR value, lets train the NND with starting at a high training SNR\n",
    "and then gradually reducing it.\n",
    "* A range of SNR values, -3 to 6 dB (10 different SNRs) is considered for training. starting with 6 dB.\n",
    "* Train the NND in this manner for three training epochs. ( $2^{10}, 2^{12}, 2^{14}$ )\n",
    "* For BER simulations, 1,000,000 codewords per SNR point are considered."
   ]
  },
  {
   "cell_type": "code",
   "execution_count": 0,
   "metadata": {
    "colab": {},
    "colab_type": "code",
    "id": "aT4B8nw_AZn5"
   },
   "outputs": [],
   "source": [
    "u_messages = np.array(generate_input_data(k), dtype = np.float32)\n",
    "\n",
    "ber_list_all_snr = []\n",
    "\n",
    "for num_epochs in [2**10, 2**12, 2**14]:\n",
    "\n",
    "    tf.keras.backend.clear_session()\n",
    "    loss_object = tf.keras.losses.BinaryCrossentropy()\n",
    "    optimizer = tf.keras.optimizers.Adam()\n",
    "    train_loss = tf.keras.metrics.Mean(name='train_loss')\n",
    "    model = NND(k = 8, N = 16, hidden_layers = [128, 64, 32], loss_object = loss_object,\n",
    "                        optimizer = optimizer, train_loss = train_loss)\n",
    "\n",
    "    for train_snr_db in reversed(np.linspace(-3,6,10)):\n",
    "\n",
    "        x = np.array(polar_encode(u_messages, N, k, train_snr_db), np.float32)\n",
    "        dataset = tf.data.Dataset.from_tensor_slices((np.array(x, dtype = np.float32), np.array(u_messages, dtype = np.float32)))\n",
    "\n",
    "        model.fit(dataset, num_epochs, train_snr_db, 256)\n",
    "\n",
    "        ber_list = []\n",
    "        for snr in np.linspace(0,10, 20):\n",
    "            test_u = np.array(np.random.randint(0, 2, size = (1000000, 8)), dtype = np.float32)\n",
    "            test_x = np.array(polar_encode(test_u, 16, 8, snr), np.float32)\n",
    "\n",
    "            preds = model.decoder(test_x, snr)\n",
    "            ber_list.append(model.BER(test_u, preds))\n",
    "    ber_list_all_snr.append(ber_list)"
   ]
  },
  {
   "cell_type": "code",
   "execution_count": 18,
   "metadata": {
    "colab": {
     "base_uri": "https://localhost:8080/",
     "height": 301
    },
    "colab_type": "code",
    "id": "FbN0HsMZ670d",
    "outputId": "e234d94b-72fc-4f17-8324-1474bc791ad6"
   },
   "outputs": [
    {
     "data": {
      "text/plain": [
       "<matplotlib.legend.Legend at 0x7f766cd16b00>"
      ]
     },
     "execution_count": 18,
     "metadata": {
      "tags": []
     },
     "output_type": "execute_result"
    },
    {
     "data": {
      "image/png": "[encoded data removed]",
      "text/plain": [
       "<Figure size 432x288 with 1 Axes>"
      ]
     },
     "metadata": {
      "needs_background": "light",
      "tags": []
     },
     "output_type": "display_data"
    }
   ],
   "source": [
    "ber_map_list = [0.1286525, 0.10107375, 0.077645, 0.05711125, 0.04022625, 0.0259875, 0.01623125, 0.0092775, 0.0050575, 0.0025075, 0.00115875, 0.00048, 0.00016375, 5.875e-05, 1.25e-05, 0.0]\n",
    "plt.close()\n",
    "plt.yscale('log')\n",
    "plt.xlabel('$E_b/N_0$ [dB]')\n",
    "plt.ylabel('BER')\n",
    "plt.grid(True, which=\"both\")\n",
    "plt.ylim(1e-5, 0.4)\n",
    "plt.xlim(0,10)\n",
    "plt.plot(np.linspace(0,8,16), ber_map_list, \"black\", linestyle = 'dashed')\n",
    "plt.plot(np.linspace(0,10,20), ber_list_all_snr[0])\n",
    "plt.plot(np.linspace(0,10,20), ber_list_all_snr[1])\n",
    "plt.plot(np.linspace(0,10,20), ber_list_all_snr[2])\n",
    "plt.legend([\"MAP\", \"$M_{ep} = 2^{10}$\", \"$M_{ep} = 2^{12}$\", \"$M_{ep} = 2^{14}$\"])"
   ]
  },
  {
   "cell_type": "markdown",
   "metadata": {
    "colab_type": "text",
    "id": "vMPxAAJwBKVT"
   },
   "source": [
    "### **Observations**\n",
    "* Comparing the above plot with BER plot from previous section, it can be observed that training the NND with mixed SNR values gives better performance compared to training with only one SNR value ( if both trained for same number of epochs)\n",
    "* Close to MAP performance is obtained by training for $2^{14}$ epochs, when the NND is trained with mixed SNR values.\n",
    "* Whereas, when the NND is trained with only one SNR ( 1 dB), close to MAP performance is achieved by training for $2^{16}$ epochs."
   ]
  },
  {
   "cell_type": "markdown",
   "metadata": {
    "colab_type": "text",
    "id": "aQgRwjPyCXCN"
   },
   "source": [
    "## **Finding Optimal NND Architecture**"
   ]
  },
  {
   "cell_type": "markdown",
   "metadata": {
    "colab_type": "text",
    "id": "yyMNgF9QWwUG"
   },
   "source": [
    "* k = 8, N = 16.\n",
    "* The NND is trained for differnet sizes\n",
    "    * 128-64-32\n",
    "    * 256-128-64\n",
    "    * 512-256-128\n",
    "    * 1024-512-256\n",
    "* For each NND architecture, it is trained for 3 different num of training epochs $2^{12}, 2^{14}, 2^{16}$\n",
    "* Loss function: Binary Cross Entropy\n",
    "* Oprimizer: Adam\n",
    "* Training SNR: 1 dB\n",
    "* NVE is calculated for 10 differnt SNRs over a range of 0 to 5 dB with 10,000 examples for each SNR.\n"
   ]
  },
  {
   "cell_type": "code",
   "execution_count": 0,
   "metadata": {
    "colab": {},
    "colab_type": "code",
    "id": "yAWDQgkICdyX"
   },
   "outputs": [],
   "source": [
    "layers1 = [128, 64, 32]\n",
    "layers2 = [256, 128, 64]\n",
    "layers3 = [512, 256, 128]\n",
    "layers4 = [1024, 512, 256]\n",
    "all_layers = [layers1, layers2, layers3, layers4]"
   ]
  },
  {
   "cell_type": "markdown",
   "metadata": {
    "colab_type": "text",
    "id": "cRhbV6bavTX8"
   },
   "source": [
    "*Compute BER of MAP decoding (used to compute NVE)*"
   ]
  },
  {
   "cell_type": "code",
   "execution_count": 0,
   "metadata": {
    "colab": {},
    "colab_type": "code",
    "id": "3ZTfytzeIV-P"
   },
   "outputs": [],
   "source": [
    "ber_map_list = []\n",
    "for snr_db in np.linspace(0, 5, 10):\n",
    "    ber_map_list.append(BER_MAP_PolarCode(N=N, k=k, snr_db=snr_db, val_size=10000))"
   ]
  },
  {
   "cell_type": "markdown",
   "metadata": {
    "colab_type": "text",
    "id": "ldld5mdivuWL"
   },
   "source": [
    "*Training*"
   ]
  },
  {
   "cell_type": "code",
   "execution_count": 0,
   "metadata": {
    "colab": {},
    "colab_type": "code",
    "id": "8vB4oVaxf0o8"
   },
   "outputs": [],
   "source": [
    "u_messages = np.array(generate_input_data(k), dtype = np.float32)\n",
    "x = np.array(polar_encode(u_messages, N, k, 1), np.float32)\n",
    "dataset = tf.data.Dataset.from_tensor_slices((np.array(x, dtype = np.float32), np.array(u_messages, dtype = np.float32)))\n",
    "\n",
    "loss_object = tf.keras.losses.BinaryCrossentropy()\n",
    "optimizer = tf.keras.optimizers.Adam()\n",
    "train_loss = tf.keras.metrics.Mean(name='train_loss')\n",
    "\n",
    "nve_layers = []\n",
    "\n",
    "for layers in all_layers:\n",
    "\n",
    "    nve_layer = []\n",
    "    for num_epochs in [2**12, 2**14, 2**16]:\n",
    "\n",
    "        tf.keras.backend.clear_session()\n",
    "        model = NND(k = k, N = N, hidden_layers = layers, loss_object = loss_object,\n",
    "                            optimizer = optimizer, train_loss = train_loss)\n",
    "        \n",
    "        model.fit(dataset, num_epochs, 1, batch_size)\n",
    "        nve_layer.append(model.NVE(10, 10000, val_snr_db_range, ber_map_list))\n",
    "    \n",
    "    nve_layers.append(nve_layer)\n",
    "    print(nve_layers[-1])"
   ]
  },
  {
   "cell_type": "markdown",
   "metadata": {
    "colab_type": "text",
    "id": "uRQYq7N8X7bW"
   },
   "source": [
    "*Plotting NVE for different NND Architectures trained for a range of training epochs.*"
   ]
  },
  {
   "cell_type": "code",
   "execution_count": 71,
   "metadata": {
    "colab": {
     "base_uri": "https://localhost:8080/",
     "height": 292
    },
    "colab_type": "code",
    "id": "olMIjyItNvgC",
    "outputId": "d29094a6-fcb5-4368-b354-f72f86fceef6"
   },
   "outputs": [
    {
     "data": {
      "image/png": "[encoded data removed]",
      "text/plain": [
       "<Figure size 432x288 with 1 Axes>"
      ]
     },
     "metadata": {
      "needs_background": "light",
      "tags": []
     },
     "output_type": "display_data"
    }
   ],
   "source": [
    "plt.close()\n",
    "plt.xscale(\"log\")\n",
    "plt.grid(True, which=\"both\")\n",
    "plt.ylim(1, 3.5)\n",
    "plt.xlim(3e3, 1e5)\n",
    "plt.xlabel(\"Training Epochs, $M_{ep}$\")\n",
    "plt.ylabel(\"NVE\")\n",
    "\n",
    "plt.plot([2**12, 2**14, 2**16], nve_layers[0], \"lightgreen\", marker = \"o\")\n",
    "plt.plot([2**12, 2**14, 2**16], nve_layers[1], \"blue\", marker = \"d\")\n",
    "plt.plot([2**12, 2**14, 2**16], nve_layers[2], \"orange\", marker = \"^\")\n",
    "plt.plot([2**12, 2**14, 2**16], nve_layers[3], \"red\", marker = \"s\")\n",
    "plt.legend([\"128-64-32\", \"256-128-64\", \"512-256-128\", \"1024-512-256\"])"
   ]
  },
  {
   "cell_type": "markdown",
   "metadata": {
    "colab_type": "text",
    "id": "uobR3GYnvy_M"
   },
   "source": [
    "### **Observations**\n",
    "* It can be deduced from the above plot that, with increasing the size of NND\n",
    "close to MAP performance ( NVE ~ 1) is achieved for less number of training."
   ]
  },
  {
   "cell_type": "markdown",
   "metadata": {
    "colab_type": "text",
    "id": "r-NFN9P2OAin"
   },
   "source": [
    "## **Capability of Generalization**"
   ]
  },
  {
   "cell_type": "markdown",
   "metadata": {
    "colab_type": "text",
    "id": "wHm5gGzK3nfH"
   },
   "source": [
    "* Here, the NND is trained on a subset, that is covers only p% of the entire set of valid codewords. \n",
    "* p = 70%, 80%, 90%, 100%. \n",
    "* And tested on the\n",
    "    * whole set of valid codewords ( $\\chi$ )\n",
    "    * codewords which are unseen by the NND during training ( $\\overline{\\chi_{p}}$ )\n",
    "\n",
    "* k = 8, N = 16. Therefore r = 0.5\n",
    "* 128-64-32\n",
    "* Training SNR = 1 dB\n",
    "* Optimizer: Adam\n",
    "* Loss function: Binary Cross Entropy\n",
    "* Trained for $2^{16}$ Epochs."
   ]
  },
  {
   "cell_type": "code",
   "execution_count": 0,
   "metadata": {
    "colab": {},
    "colab_type": "code",
    "id": "pLKnP2vHOI-I"
   },
   "outputs": [],
   "source": [
    "P = [0.7, 0.8, 0.9, 1]\n",
    "\n",
    "loss_object = tf.keras.losses.BinaryCrossentropy()\n",
    "optimizer = tf.keras.optimizers.Adam()\n",
    "train_loss = tf.keras.metrics.Mean(name='train_loss')\n",
    "\n",
    "u_messages = np.array(generate_input_data(k), dtype = np.float32)\n",
    "BERs_seen, BERs_unseen = [], []\n",
    "\n",
    "for p in P:\n",
    "    \n",
    "    np.random.shuffle(u_messages)\n",
    "    seen_input = np.array( u_messages[:int(len(u_messages)*p)], dtype = np.float32)\n",
    "    unseen_input = np.array( u_messages[int(len(u_messages)*p):], dtype = np.float32)\n",
    "    \n",
    "    x = np.array(polar_encode(seen_input, N, k, 1), np.float32)\n",
    "    dataset = tf.data.Dataset.from_tensor_slices((np.array(x, dtype = np.float32), np.array(seen_input, dtype = np.float32)))\n",
    "\n",
    "    tf.keras.backend.clear_session()\n",
    "    model = NND(k = k, N = N, hidden_layers = [128, 64, 32], loss_object = loss_object,\n",
    "                        optimizer = optimizer, train_loss = train_loss)\n",
    "    \n",
    "    model.fit(dataset, 2**16, 1, 256)\n",
    "\n",
    "    bers_seen, bers_unseen = [], []\n",
    "\n",
    "    for snr_db in np.linspace(0,10,20):\n",
    "        \n",
    "        encoded_messages = np.array(polar_encode(u_messages, N, k, snr_db) , dtype = np.float32)\n",
    "        test_u1, test_x1 = u_messages, encoded_messages\n",
    "        for _ in range(200):\n",
    "            test_u1 = np.append(test_u1, u_messages, axis = 0)\n",
    "            test_x1 = np.append(test_x1, encoded_messages, axis = 0)\n",
    "        preds1 = model.decoder(test_x1, snr_db)\n",
    "        flips = np.array( np.where(  np.sum(np.abs( np.round(preds1) - test_u1), axis = 1) > 0 ) )\n",
    "        bers_seen.append(flips.size/len(preds1))\n",
    "\n",
    "        if p  != 1:\n",
    "            x2 = np.array(polar_encode(unseen_input, N, k, snr_db), np.float32)\n",
    "            test_u2, test_x2 = unseen_input, x2\n",
    "            for _ in range(4000):\n",
    "                test_u2 = np.append(test_u2, unseen_input, axis = 0)\n",
    "                test_x2 = np.append(test_x2, x2, axis = 0)\n",
    "            preds2 = model.decoder(test_x2, snr_db)\n",
    "            flips = np.array( np.where(  np.sum(np.abs( np.round(preds2) - test_u2), axis = 1) > 0 ) )\n",
    "            bers_unseen.append(flips.size/len(preds2))\n",
    "\n",
    "    BERs_seen.append(bers_seen)\n",
    "    BERs_unseen.append(bers_unseen)"
   ]
  },
  {
   "cell_type": "markdown",
   "metadata": {
    "colab_type": "text",
    "id": "i1bfNiVK5G6m"
   },
   "source": [
    "*Plot Block Error Rates for 128-64-32 NND.* \\\\\n",
    "*Solid and dashed lines show performance on $\\overline{\\chi_{p}}$ and $\\chi$*"
   ]
  },
  {
   "cell_type": "code",
   "execution_count": 73,
   "metadata": {
    "colab": {
     "base_uri": "https://localhost:8080/",
     "height": 289
    },
    "colab_type": "code",
    "id": "2GV8NyAMVZWm",
    "outputId": "4ca69fc1-4c5f-4654-a5ec-8305c181c9b8"
   },
   "outputs": [
    {
     "data": {
      "image/png": "[encoded data removed]",
      "text/plain": [
       "<Figure size 432x288 with 1 Axes>"
      ]
     },
     "metadata": {
      "needs_background": "light",
      "tags": []
     },
     "output_type": "display_data"
    }
   ],
   "source": [
    "plt.close()\n",
    "plt.yscale(\"log\")\n",
    "plt.grid(True, which=\"both\")\n",
    "plt.ylim(1e-4, 1)\n",
    "plt.xlim(0,10)\n",
    "\n",
    "ber_map = [0.1286525, 0.10107375, 0.077645, 0.05711125, 0.04022625, 0.0259875, 0.01623125, 0.0092775, 0.0050575, 0.0025075, 0.00115875, 0.00048, 0.00016375, 5.875e-05, 1.25e-05, 0.0]\n",
    "plt.plot(np.linspace(0,8,16), ber_map, \"-.\", label = \"MAP\")\n",
    "\n",
    "plt.plot(np.linspace(0,10,20), BERs_unseen[0], \"red\", marker = \"s\", label = \"70%\")\n",
    "plt.plot(np.linspace(0,10,20), BERs_unseen[1], \"orange\", marker = \"^\", label = \"80%\")\n",
    "plt.plot(np.linspace(0,10,20), BERs_unseen[2], \"blue\", marker = \"d\", label = \"90%\")\n",
    "plt.plot(np.linspace(0,10,20), BERs_seen[3], \"lightgreen\", marker = \"o\")\n",
    "\n",
    "plt.plot(0,0, \"black\", linestyle = \"dashed\")\n",
    "plt.plot(0,0, \"black\")\n",
    "\n",
    "plt.plot(np.linspace(0,10,20), BERs_seen[0], \"red\", marker = \"s\", linestyle='dashed')\n",
    "plt.plot(np.linspace(0,10,20), BERs_seen[1], \"orange\", marker = \"^\", linestyle='dashed')\n",
    "plt.plot(np.linspace(0,10,20), BERs_seen[2], \"blue\", marker = \"d\", linestyle='dashed')\n",
    "\n",
    "plt.legend([\"MAP\", \"p = 70%\", \"p = 80%\", \"p = 90%\", \"p = 100%\", \"$\\chi$\", \"$\\overline{\\chi_{p}}$\"])\n",
    "plt.xlabel(\"$E_{b}/N_{0} [dB]$\")\n",
    "plt.ylabel(\"BLER\")\n",
    "plt.savefig(\"cog.png\")"
   ]
  },
  {
   "cell_type": "markdown",
   "metadata": {
    "colab_type": "text",
    "id": "QosEUC8RxLug"
   },
   "source": [
    "### **Observations**\n",
    "* Even if the NND doesn't see the whole set of valid codewords, the NND is able to decode properly for some extent. But this generalization is vanishing for larger NNs."
   ]
  }
 ],
 "metadata": {
  "accelerator": "GPU",
  "colab": {
   "collapsed_sections": [],
   "name": "ML for WC peoject.ipynb",
   "provenance": []
  },
  "kernelspec": {
   "display_name": "Python 3",
   "language": "python",
   "name": "python3"
  },
  "language_info": {
   "codemirror_mode": {
    "name": "ipython",
    "version": 3
   },
   "file_extension": ".py",
   "mimetype": "text/x-python",
   "name": "python",
   "nbconvert_exporter": "python",
   "pygments_lexer": "ipython3",
   "version": "3.6.9"
  }
 },
 "nbformat": 4,
 "nbformat_minor": 1
}
